{
 "metadata": {
  "kernelspec": {
   "display_name": "Python 3",
   "language": "python",
   "name": "python3"
  },
  "language_info": {
   "codemirror_mode": {
    "name": "ipython",
    "version": 3
   },
   "file_extension": ".py",
   "mimetype": "text/x-python",
   "name": "python",
   "nbconvert_exporter": "python",
   "pygments_lexer": "ipython3",
   "version": "3.5.2"
  },
  "name": "",
  "signature": "sha256:7629092c7710c6b8f21cd65461abdc20794e3a02249f5ac164d521ded4dca679"
 },
 "nbformat": 3,
 "nbformat_minor": 0,
 "worksheets": [
  {
   "cells": [
    {
     "cell_type": "markdown",
     "metadata": {},
     "source": [
      "*This notebook was created by [Sergey Tomin](http://www.xfel.eu/organization/staff/tomin_sergey/) for Workshop: [Designing future X-ray FELs](http://www.xrayfels.co.uk/). Source and license info is on [GitHub](https://github.com/iagapov/ocelot/tree/dev/docs). August 2016.*"
     ]
    },
    {
     "cell_type": "markdown",
     "metadata": {},
     "source": [
      "## Tutorial N3. Space Charge.\n",
      "*Second order tracking with space charge effect of the 200k particles.*\n",
      "\n",
      "As an example, we will use lattice file (converted to Ocelot format) of the European XFEL Injector. \n",
      "\n",
      "The space charge forces are calculated by solving the Poisson equation in the bunch frame. \n",
      "Then the Lorentz transformed electromagnetic field is applied as a kick in the laboratory frame.\n",
      "For the solution of the Poisson equation we use an integral representation of the electrostatic potential by convolution of the free-space Green's function with the charge distribution. The convolution equation is solved with the help of the Fast Fourier Transform (FFT). The same algorithm for solution of the 3D Poisson equation is used, for example, in [ASTRA](http://www.desy.de/~mpyflo/).\n",
      "\n",
      "#### This example will cover the following topics:\n",
      "* Initialization of the Space Charge objects and the places of their applying\n",
      "* tracking of second order with space charge effect.\n",
      "\n",
      "#### Requirements \n",
      "* injector_lattice.py - input file, the The European XFEL Injector lattice.\n",
      "* beam_6MeV.ast    - input file, initial beam distribution in ASTRA format (was obtained from s2e simulation performed with ASTRA)."
     ]
    },
    {
     "cell_type": "heading",
     "level": 2,
     "metadata": {},
     "source": [
      "Import of modules"
     ]
    },
    {
     "cell_type": "code",
     "collapsed": false,
     "input": [
      "# the output of plotting commands is displayed inline within frontends, \n",
      "# directly below the code cell that produced it\n",
      "%matplotlib inline\n",
      "\n",
      "from time import time \n",
      "\n",
      "# this python library provides generic shallow (copy) and deep copy (deepcopy) operations \n",
      "from copy import deepcopy\n",
      "\n",
      "# import from Ocelot main modules and functions\n",
      "from ocelot import *\n",
      "\n",
      "# import from Ocelot graphical modules\n",
      "from ocelot.gui.accelerator import *\n",
      "\n",
      "# import injector lattice\n",
      "from ocelot.test.workshop.injector_lattice import *\n",
      "\n",
      "# load beam distribution\n",
      "# this function convert Astra beam distribution to Ocelot format - ParticleArray. ParticleArray is designed for tracking.\n",
      "# in order to work with converters we have to import specific module from ocelot.adaptors\n",
      "from ocelot.adaptors.astra2ocelot import *"
     ],
     "language": "python",
     "metadata": {},
     "outputs": [
      {
       "output_type": "stream",
       "stream": "stdout",
       "text": [
        "initializing ocelot...\n"
       ]
      }
     ],
     "prompt_number": 1
    },
    {
     "cell_type": "markdown",
     "metadata": {},
     "source": [
      "### Change RF parameters for the comparison with ASTRA"
     ]
    },
    {
     "cell_type": "code",
     "collapsed": false,
     "input": [
      "phi1=18.7268\n",
      "V1=18.50662e-3/np.cos(phi1*pi/180)\n",
      "\n",
      "C_A1_1_1_I1.v = V1; C_A1_1_1_I1.phi = phi1\n",
      "C_A1_1_2_I1.v = V1; C_A1_1_2_I1.phi = phi1\n",
      "C_A1_1_3_I1.v = V1; C_A1_1_3_I1.phi = phi1\n",
      "C_A1_1_4_I1.v = V1; C_A1_1_4_I1.phi = phi1\n",
      "C_A1_1_5_I1.v = V1; C_A1_1_5_I1.phi = phi1\n",
      "C_A1_1_6_I1.v = V1; C_A1_1_6_I1.phi = phi1\n",
      "C_A1_1_7_I1.v = V1; C_A1_1_7_I1.phi = phi1\n",
      "C_A1_1_8_I1.v = V1; C_A1_1_8_I1.phi = phi1\n",
      "\n",
      "phi13=180\n",
      "V13=-20.2E-3/8/np.cos(phi13*pi/180)\n",
      "\n",
      "C3_AH1_1_1_I1.v=V13; C3_AH1_1_1_I1.phi=phi13\n",
      "C3_AH1_1_2_I1.v=V13; C3_AH1_1_2_I1.phi=phi13\n",
      "C3_AH1_1_3_I1.v=V13; C3_AH1_1_3_I1.phi=phi13\n",
      "C3_AH1_1_4_I1.v=V13; C3_AH1_1_4_I1.phi=phi13\n",
      "C3_AH1_1_5_I1.v=V13; C3_AH1_1_5_I1.phi=phi13\n",
      "C3_AH1_1_6_I1.v=V13; C3_AH1_1_6_I1.phi=phi13\n",
      "C3_AH1_1_7_I1.v=V13; C3_AH1_1_7_I1.phi=phi13\n",
      "C3_AH1_1_8_I1.v=V13; C3_AH1_1_8_I1.phi=phi13"
     ],
     "language": "python",
     "metadata": {},
     "outputs": [],
     "prompt_number": 2
    },
    {
     "cell_type": "code",
     "collapsed": false,
     "input": [
      "p_array_init = astraBeam2particleArray(filename='beam_6MeV.ast')\n",
      "bins_start, hist_start = get_current(p_array_init, charge=p_array_init.q_array[0], num_bins=200)\n",
      "\n",
      "plt.title(\"current: end\")\n",
      "plt.plot(bins_start*1000, hist_start)\n",
      "plt.xlabel(\"s, mm\")\n",
      "plt.ylabel(\"I, A\")\n",
      "plt.grid(True)\n",
      "plt.show()"
     ],
     "language": "python",
     "metadata": {},
     "outputs": [
      {
       "output_type": "stream",
       "stream": "stdout",
       "text": [
        "('Astra to Ocelot: charge = ', 2.5000000000000012e-10)\n",
        "('Astra to Ocelot: particles number = ', 200000)\n",
        "('Astra to Ocelot: energy = ', 0.0065579389982232342)"
       ]
      },
      {
       "output_type": "stream",
       "stream": "stdout",
       "text": [
        "\n",
        "('Astra to Ocelot: s pos = ', 3.2000000000000002)\n",
        "('Imax = ', 13.227182625297699)"
       ]
      },
      {
       "output_type": "stream",
       "stream": "stdout",
       "text": [
        "\n"
       ]
      },
      {
       "metadata": {},
       "output_type": "display_data",
       "png": "[encoded data removed]",
       "text": [
        "<matplotlib.figure.Figure at 0xbd8f0d0>"
       ]
      }
     ],
     "prompt_number": 3
    },
    {
     "cell_type": "code",
     "collapsed": true,
     "input": [
      "# initialization of tracking method\n",
      "method = MethodTM()\n",
      "\n",
      "# for second order tracking we have to choose SecondTM \n",
      "method.global_method = SecondTM\n",
      "\n",
      "# for first order tracking uncomment next line\n",
      "# method.global_method = TransferMap\n",
      "\n",
      "# we will start simulation from point 3.2 from the gun. For this purpose  marker was created (start_sim=Marker()) \n",
      "# and placed in 3.2 m after gun \n",
      "# Q_38_I1 is quadrupole between RF cavities 1.3 GHz and 3.9 GHz\n",
      "# C3_AH1_1_8_I1 is the last section of the 3.9 GHz cavity\n",
      "lat = MagneticLattice(cell, start=start_sim, stop=Q_38_I1, method=method)"
     ],
     "language": "python",
     "metadata": {},
     "outputs": [],
     "prompt_number": 4
    },
    {
     "cell_type": "markdown",
     "metadata": {},
     "source": [
      "## Initializing SpaceCharge"
     ]
    },
    {
     "cell_type": "code",
     "collapsed": false,
     "input": [
      "sc1 = SpaceCharge()\n",
      "sc1.nmesh_xyz = [63, 63, 63]\n",
      "sc1.low_order_kick = False\n",
      "sc1.step = 1\n",
      "\n",
      "sc5 = SpaceCharge()\n",
      "sc5.nmesh_xyz = [63, 63, 63]\n",
      "sc5.step = 5\n",
      "sc5.low_order_kick = False"
     ],
     "language": "python",
     "metadata": {},
     "outputs": [],
     "prompt_number": 5
    },
    {
     "cell_type": "code",
     "collapsed": false,
     "input": [
      "navi = Navigator(lat)\n",
      "\n",
      "# add physics processes from the first element to the last of the lattice\n",
      "navi.add_physics_proc(sc1, lat.sequence[0], C_A1_1_2_I1)\n",
      "navi.add_physics_proc(sc5, C_A1_1_2_I1, lat.sequence[-1])\n",
      "\n",
      "# definiing of unit step in [m]\n",
      "navi.unit_step = 0.02\n",
      "\n",
      "# deep copy of the initial beam distribution \n",
      "p_array = deepcopy(p_array_init)\n",
      "start = time()\n",
      "tws_track, p_array = track(lat, p_array, navi)\n",
      "\n",
      "print(\"time exec: \", time() - start, \"sec\")"
     ],
     "language": "python",
     "metadata": {},
     "outputs": [
      {
       "output_type": "stream",
       "stream": "stdout",
       "text": [
        "\r",
        "z = 0.02 / 12.6974 : applied: SpaceCharge"
       ]
      },
      {
       "output_type": "stream",
       "stream": "stdout",
       "text": [
        "\r",
        "z = 0.04 / 12.6974 : applied: SpaceCharge"
       ]
      },
      {
       "output_type": "stream",
       "stream": "stdout",
       "text": [
        "\r",
        "z = 0.06 / 12.6974 : applied: SpaceCharge"
       ]
      },
      {
       "output_type": "stream",
       "stream": "stdout",
       "text": [
        "\r",
        "z = 0.08 / 12.6974 : applied: SpaceCharge"
       ]
      },
      {
       "output_type": "stream",
       "stream": "stdout",
       "text": [
        "\r",
        "z = 0.1 / 12.6974 : applied: SpaceCharge"
       ]
      },
      {
       "output_type": "stream",
       "stream": "stdout",
       "text": [
        "\r",
        "z = 0.12 / 12.6974 : applied: SpaceCharge"
       ]
      },
      {
       "output_type": "stream",
       "stream": "stdout",
       "text": [
        "\r",
        "z = 0.14 / 12.6974 : applied: SpaceCharge"
       ]
      },
      {
       "output_type": "stream",
       "stream": "stdout",
       "text": [
        "\r",
        "z = 0.16 / 12.6974 : applied: SpaceCharge"
       ]
      },
      {
       "output_type": "stream",
       "stream": "stdout",
       "text": [
        "\r",
        "z = 0.18 / 12.6974 : applied: SpaceCharge"
       ]
      },
      {
       "output_type": "stream",
       "stream": "stdout",
       "text": [
        "\r",
        "z = 0.2 / 12.6974 : applied: SpaceCharge"
       ]
      },
      {
       "output_type": "stream",
       "stream": "stdout",
       "text": [
        "\r",
        "z = 0.22 / 12.6974 : applied: SpaceCharge"
       ]
      },
      {
       "output_type": "stream",
       "stream": "stdout",
       "text": [
        "\r",
        "z = 0.24 / 12.6974 : applied: SpaceCharge"
       ]
      },
      {
       "output_type": "stream",
       "stream": "stdout",
       "text": [
        "\r",
        "z = 0.26 / 12.6974 : applied: SpaceCharge"
       ]
      },
      {
       "output_type": "stream",
       "stream": "stdout",
       "text": [
        "\r",
        "z = 0.28 / 12.6974 : applied: SpaceCharge"
       ]
      },
      {
       "output_type": "stream",
       "stream": "stdout",
       "text": [
        "\r",
        "z = 0.3 / 12.6974 : applied: SpaceCharge"
       ]
      },
      {
       "output_type": "stream",
       "stream": "stdout",
       "text": [
        "\r",
        "z = 0.32 / 12.6974 : applied: SpaceCharge"
       ]
      },
      {
       "output_type": "stream",
       "stream": "stdout",
       "text": [
        "\r",
        "z = 0.34 / 12.6974 : applied: SpaceCharge"
       ]
      },
      {
       "output_type": "stream",
       "stream": "stdout",
       "text": [
        "\r",
        "z = 0.36 / 12.6974 : applied: SpaceCharge"
       ]
      },
      {
       "output_type": "stream",
       "stream": "stdout",
       "text": [
        "\r",
        "z = 0.38 / 12.6974 : applied: SpaceCharge"
       ]
      },
      {
       "output_type": "stream",
       "stream": "stdout",
       "text": [
        "\r",
        "z = 0.4 / 12.6974 : applied: SpaceCharge"
       ]
      },
      {
       "output_type": "stream",
       "stream": "stdout",
       "text": [
        "\r",
        "z = 0.42 / 12.6974 : applied: SpaceCharge"
       ]
      },
      {
       "output_type": "stream",
       "stream": "stdout",
       "text": [
        "\r",
        "z = 0.44 / 12.6974 : applied: SpaceCharge"
       ]
      },
      {
       "output_type": "stream",
       "stream": "stdout",
       "text": [
        "\r",
        "z = 0.46 / 12.6974 : applied: SpaceCharge"
       ]
      },
      {
       "output_type": "stream",
       "stream": "stdout",
       "text": [
        "\r",
        "z = 0.48 / 12.6974 : applied: SpaceCharge"
       ]
      },
      {
       "output_type": "stream",
       "stream": "stdout",
       "text": [
        "\r",
        "z = 0.5 / 12.6974 : applied: SpaceCharge"
       ]
      },
      {
       "output_type": "stream",
       "stream": "stdout",
       "text": [
        "\r",
        "z = 0.52 / 12.6974 : applied: SpaceCharge"
       ]
      },
      {
       "output_type": "stream",
       "stream": "stdout",
       "text": [
        "\r",
        "z = 0.54 / 12.6974 : applied: SpaceCharge"
       ]
      },
      {
       "output_type": "stream",
       "stream": "stdout",
       "text": [
        "\r",
        "z = 0.56 / 12.6974 : applied: SpaceCharge"
       ]
      },
      {
       "output_type": "stream",
       "stream": "stdout",
       "text": [
        "\r",
        "z = 0.58 / 12.6974 : applied: SpaceCharge"
       ]
      },
      {
       "output_type": "stream",
       "stream": "stdout",
       "text": [
        "\r",
        "z = 0.6 / 12.6974 : applied: SpaceCharge"
       ]
      },
      {
       "output_type": "stream",
       "stream": "stdout",
       "text": [
        "\r",
        "z = 0.62 / 12.6974 : applied: SpaceCharge"
       ]
      },
      {
       "output_type": "stream",
       "stream": "stdout",
       "text": [
        "\r",
        "z = 0.64 / 12.6974 : applied: SpaceCharge"
       ]
      },
      {
       "output_type": "stream",
       "stream": "stdout",
       "text": [
        "\r",
        "z = 0.66 / 12.6974 : applied: SpaceCharge"
       ]
      },
      {
       "output_type": "stream",
       "stream": "stdout",
       "text": [
        "\r",
        "z = 0.68 / 12.6974 : applied: SpaceCharge"
       ]
      },
      {
       "output_type": "stream",
       "stream": "stdout",
       "text": [
        "\r",
        "z = 0.7 / 12.6974 : applied: SpaceCharge"
       ]
      },
      {
       "output_type": "stream",
       "stream": "stdout",
       "text": [
        "\r",
        "z = 0.72 / 12.6974 : applied: SpaceCharge"
       ]
      },
      {
       "output_type": "stream",
       "stream": "stdout",
       "text": [
        "\r",
        "z = 0.74 / 12.6974 : applied: SpaceCharge"
       ]
      },
      {
       "output_type": "stream",
       "stream": "stdout",
       "text": [
        "\r",
        "z = 0.76 / 12.6974 : applied: SpaceCharge"
       ]
      },
      {
       "output_type": "stream",
       "stream": "stdout",
       "text": [
        "\r",
        "z = 0.78 / 12.6974 : applied: SpaceCharge"
       ]
      },
      {
       "output_type": "stream",
       "stream": "stdout",
       "text": [
        "\r",
        "z = 0.8 / 12.6974 : applied: SpaceCharge"
       ]
      },
      {
       "output_type": "stream",
       "stream": "stdout",
       "text": [
        "\r",
        "z = 0.82 / 12.6974 : applied: SpaceCharge"
       ]
      },
      {
       "output_type": "stream",
       "stream": "stdout",
       "text": [
        "\r",
        "z = 0.84 / 12.6974 : applied: SpaceCharge"
       ]
      },
      {
       "output_type": "stream",
       "stream": "stdout",
       "text": [
        "\r",
        "z = 0.86 / 12.6974 : applied: SpaceCharge"
       ]
      },
      {
       "output_type": "stream",
       "stream": "stdout",
       "text": [
        "\r",
        "z = 0.88 / 12.6974 : applied: SpaceCharge"
       ]
      },
      {
       "output_type": "stream",
       "stream": "stdout",
       "text": [
        "\r",
        "z = 0.9 / 12.6974 : applied: SpaceCharge"
       ]
      },
      {
       "output_type": "stream",
       "stream": "stdout",
       "text": [
        "\r",
        "z = 0.92 / 12.6974 : applied: SpaceCharge"
       ]
      },
      {
       "output_type": "stream",
       "stream": "stdout",
       "text": [
        "\r",
        "z = 0.94 / 12.6974 : applied: SpaceCharge"
       ]
      },
      {
       "output_type": "stream",
       "stream": "stdout",
       "text": [
        "\r",
        "z = 0.96 / 12.6974 : applied: SpaceCharge"
       ]
      },
      {
       "output_type": "stream",
       "stream": "stdout",
       "text": [
        "\r",
        "z = 0.98 / 12.6974 : applied: SpaceCharge"
       ]
      },
      {
       "output_type": "stream",
       "stream": "stdout",
       "text": [
        "\r",
        "z = 1.0 / 12.6974 : applied: SpaceCharge"
       ]
      },
      {
       "output_type": "stream",
       "stream": "stdout",
       "text": [
        "\r",
        "z = 1.02 / 12.6974 : applied: SpaceCharge"
       ]
      },
      {
       "output_type": "stream",
       "stream": "stdout",
       "text": [
        "\r",
        "z = 1.04 / 12.6974 : applied: SpaceCharge"
       ]
      },
      {
       "output_type": "stream",
       "stream": "stdout",
       "text": [
        "\r",
        "z = 1.06 / 12.6974 : applied: SpaceCharge"
       ]
      },
      {
       "output_type": "stream",
       "stream": "stdout",
       "text": [
        "\r",
        "z = 1.08 / 12.6974 : applied: SpaceCharge"
       ]
      },
      {
       "output_type": "stream",
       "stream": "stdout",
       "text": [
        "\r",
        "z = 1.1 / 12.6974 : applied: SpaceCharge"
       ]
      },
      {
       "output_type": "stream",
       "stream": "stdout",
       "text": [
        "\r",
        "z = 1.12 / 12.6974 : applied: SpaceCharge"
       ]
      },
      {
       "output_type": "stream",
       "stream": "stdout",
       "text": [
        "\r",
        "z = 1.14 / 12.6974 : applied: SpaceCharge"
       ]
      },
      {
       "output_type": "stream",
       "stream": "stdout",
       "text": [
        "\r",
        "z = 1.16 / 12.6974 : applied: SpaceCharge"
       ]
      },
      {
       "output_type": "stream",
       "stream": "stdout",
       "text": [
        "\r",
        "z = 1.18 / 12.6974 : applied: SpaceCharge"
       ]
      },
      {
       "output_type": "stream",
       "stream": "stdout",
       "text": [
        "\r",
        "z = 1.2 / 12.6974 : applied: SpaceCharge"
       ]
      },
      {
       "output_type": "stream",
       "stream": "stdout",
       "text": [
        "\r",
        "z = 1.22 / 12.6974 : applied: SpaceCharge"
       ]
      },
      {
       "output_type": "stream",
       "stream": "stdout",
       "text": [
        "\r",
        "z = 1.24 / 12.6974 : applied: SpaceCharge"
       ]
      },
      {
       "output_type": "stream",
       "stream": "stdout",
       "text": [
        "\r",
        "z = 1.26 / 12.6974 : applied: SpaceCharge"
       ]
      },
      {
       "output_type": "stream",
       "stream": "stdout",
       "text": [
        "\r",
        "z = 1.28 / 12.6974 : applied: SpaceCharge"
       ]
      },
      {
       "output_type": "stream",
       "stream": "stdout",
       "text": [
        "\r",
        "z = 1.3 / 12.6974 : applied: SpaceCharge"
       ]
      },
      {
       "output_type": "stream",
       "stream": "stdout",
       "text": [
        "\r",
        "z = 1.32 / 12.6974 : applied: SpaceCharge"
       ]
      },
      {
       "output_type": "stream",
       "stream": "stdout",
       "text": [
        "\r",
        "z = 1.34 / 12.6974 : applied: SpaceCharge"
       ]
      },
      {
       "output_type": "stream",
       "stream": "stdout",
       "text": [
        "\r",
        "z = 1.36 / 12.6974 : applied: SpaceCharge"
       ]
      },
      {
       "output_type": "stream",
       "stream": "stdout",
       "text": [
        "\r",
        "z = 1.38 / 12.6974 : applied: SpaceCharge"
       ]
      },
      {
       "output_type": "stream",
       "stream": "stdout",
       "text": [
        "\r",
        "z = 1.4 / 12.6974 : applied: SpaceCharge"
       ]
      },
      {
       "output_type": "stream",
       "stream": "stdout",
       "text": [
        "\r",
        "z = 1.42 / 12.6974 : applied: SpaceCharge"
       ]
      },
      {
       "output_type": "stream",
       "stream": "stdout",
       "text": [
        "\r",
        "z = 1.44 / 12.6974 : applied: SpaceCharge"
       ]
      },
      {
       "output_type": "stream",
       "stream": "stdout",
       "text": [
        "\r",
        "z = 1.46 / 12.6974 : applied: SpaceCharge"
       ]
      },
      {
       "output_type": "stream",
       "stream": "stdout",
       "text": [
        "\r",
        "z = 1.48 / 12.6974 : applied: SpaceCharge"
       ]
      },
      {
       "output_type": "stream",
       "stream": "stdout",
       "text": [
        "\r",
        "z = 1.5 / 12.6974 : applied: SpaceCharge"
       ]
      },
      {
       "output_type": "stream",
       "stream": "stdout",
       "text": [
        "\r",
        "z = 1.52 / 12.6974 : applied: SpaceCharge"
       ]
      },
      {
       "output_type": "stream",
       "stream": "stdout",
       "text": [
        "\r",
        "z = 1.54 / 12.6974 : applied: SpaceCharge"
       ]
      },
      {
       "output_type": "stream",
       "stream": "stdout",
       "text": [
        "\r",
        "z = 1.56 / 12.6974 : applied: SpaceCharge"
       ]
      },
      {
       "output_type": "stream",
       "stream": "stdout",
       "text": [
        "\r",
        "z = 1.58 / 12.6974 : applied: SpaceCharge"
       ]
      },
      {
       "output_type": "stream",
       "stream": "stdout",
       "text": [
        "\r",
        "z = 1.6 / 12.6974 : applied: SpaceCharge"
       ]
      },
      {
       "output_type": "stream",
       "stream": "stdout",
       "text": [
        "\r",
        "z = 1.62 / 12.6974 : applied: SpaceCharge"
       ]
      },
      {
       "output_type": "stream",
       "stream": "stdout",
       "text": [
        "\r",
        "z = 1.64 / 12.6974 : applied: SpaceCharge"
       ]
      },
      {
       "output_type": "stream",
       "stream": "stdout",
       "text": [
        "\r",
        "z = 1.66 / 12.6974 : applied: SpaceCharge"
       ]
      },
      {
       "output_type": "stream",
       "stream": "stdout",
       "text": [
        "\r",
        "z = 1.68 / 12.6974 : applied: SpaceCharge"
       ]
      },
      {
       "output_type": "stream",
       "stream": "stdout",
       "text": [
        "\r",
        "z = 1.7 / 12.6974 : applied: SpaceCharge"
       ]
      },
      {
       "output_type": "stream",
       "stream": "stdout",
       "text": [
        "\r",
        "z = 1.72 / 12.6974 : applied: SpaceCharge"
       ]
      },
      {
       "output_type": "stream",
       "stream": "stdout",
       "text": [
        "\r",
        "z = 1.82 / 12.6974 : applied: SpaceCharge"
       ]
      },
      {
       "output_type": "stream",
       "stream": "stdout",
       "text": [
        "\r",
        "z = 1.92 / 12.6974 : applied: SpaceCharge"
       ]
      },
      {
       "output_type": "stream",
       "stream": "stdout",
       "text": [
        "\r",
        "z = 2.02 / 12.6974 : applied: SpaceCharge"
       ]
      },
      {
       "output_type": "stream",
       "stream": "stdout",
       "text": [
        "\r",
        "z = 2.12 / 12.6974 : applied: SpaceCharge"
       ]
      },
      {
       "output_type": "stream",
       "stream": "stdout",
       "text": [
        "\r",
        "z = 2.22 / 12.6974 : applied: SpaceCharge"
       ]
      },
      {
       "output_type": "stream",
       "stream": "stdout",
       "text": [
        "\r",
        "z = 2.32 / 12.6974 : applied: SpaceCharge"
       ]
      },
      {
       "output_type": "stream",
       "stream": "stdout",
       "text": [
        "\r",
        "z = 2.42 / 12.6974 : applied: SpaceCharge"
       ]
      },
      {
       "output_type": "stream",
       "stream": "stdout",
       "text": [
        "\r",
        "z = 2.52 / 12.6974 : applied: SpaceCharge"
       ]
      },
      {
       "output_type": "stream",
       "stream": "stdout",
       "text": [
        "\r",
        "z = 2.62 / 12.6974 : applied: SpaceCharge"
       ]
      },
      {
       "output_type": "stream",
       "stream": "stdout",
       "text": [
        "\r",
        "z = 2.72 / 12.6974 : applied: SpaceCharge"
       ]
      },
      {
       "output_type": "stream",
       "stream": "stdout",
       "text": [
        "\r",
        "z = 2.82 / 12.6974 : applied: SpaceCharge"
       ]
      },
      {
       "output_type": "stream",
       "stream": "stdout",
       "text": [
        "\r",
        "z = 2.92 / 12.6974 : applied: SpaceCharge"
       ]
      },
      {
       "output_type": "stream",
       "stream": "stdout",
       "text": [
        "\r",
        "z = 3.02 / 12.6974 : applied: SpaceCharge"
       ]
      },
      {
       "output_type": "stream",
       "stream": "stdout",
       "text": [
        "\r",
        "z = 3.12 / 12.6974 : applied: SpaceCharge"
       ]
      },
      {
       "output_type": "stream",
       "stream": "stdout",
       "text": [
        "\r",
        "z = 3.22 / 12.6974 : applied: SpaceCharge"
       ]
      },
      {
       "output_type": "stream",
       "stream": "stdout",
       "text": [
        "\r",
        "z = 3.32 / 12.6974 : applied: SpaceCharge"
       ]
      },
      {
       "output_type": "stream",
       "stream": "stdout",
       "text": [
        "\r",
        "z = 3.42 / 12.6974 : applied: SpaceCharge"
       ]
      },
      {
       "output_type": "stream",
       "stream": "stdout",
       "text": [
        "\r",
        "z = 3.52 / 12.6974 : applied: SpaceCharge"
       ]
      },
      {
       "output_type": "stream",
       "stream": "stdout",
       "text": [
        "\r",
        "z = 3.62 / 12.6974 : applied: SpaceCharge"
       ]
      },
      {
       "output_type": "stream",
       "stream": "stdout",
       "text": [
        "\r",
        "z = 3.72 / 12.6974 : applied: SpaceCharge"
       ]
      },
      {
       "output_type": "stream",
       "stream": "stdout",
       "text": [
        "\r",
        "z = 3.82 / 12.6974 : applied: SpaceCharge"
       ]
      },
      {
       "output_type": "stream",
       "stream": "stdout",
       "text": [
        "\r",
        "z = 3.92 / 12.6974 : applied: SpaceCharge"
       ]
      },
      {
       "output_type": "stream",
       "stream": "stdout",
       "text": [
        "\r",
        "z = 4.02 / 12.6974 : applied: SpaceCharge"
       ]
      },
      {
       "output_type": "stream",
       "stream": "stdout",
       "text": [
        "\r",
        "z = 4.12 / 12.6974 : applied: SpaceCharge"
       ]
      },
      {
       "output_type": "stream",
       "stream": "stdout",
       "text": [
        "\r",
        "z = 4.22 / 12.6974 : applied: SpaceCharge"
       ]
      },
      {
       "output_type": "stream",
       "stream": "stdout",
       "text": [
        "\r",
        "z = 4.32 / 12.6974 : applied: SpaceCharge"
       ]
      },
      {
       "output_type": "stream",
       "stream": "stdout",
       "text": [
        "\r",
        "z = 4.42 / 12.6974 : applied: SpaceCharge"
       ]
      },
      {
       "output_type": "stream",
       "stream": "stdout",
       "text": [
        "\r",
        "z = 4.52 / 12.6974 : applied: SpaceCharge"
       ]
      },
      {
       "output_type": "stream",
       "stream": "stdout",
       "text": [
        "\r",
        "z = 4.62 / 12.6974 : applied: SpaceCharge"
       ]
      },
      {
       "output_type": "stream",
       "stream": "stdout",
       "text": [
        "\r",
        "z = 4.72 / 12.6974 : applied: SpaceCharge"
       ]
      },
      {
       "output_type": "stream",
       "stream": "stdout",
       "text": [
        "\r",
        "z = 4.82 / 12.6974 : applied: SpaceCharge"
       ]
      },
      {
       "output_type": "stream",
       "stream": "stdout",
       "text": [
        "\r",
        "z = 4.92 / 12.6974 : applied: SpaceCharge"
       ]
      },
      {
       "output_type": "stream",
       "stream": "stdout",
       "text": [
        "\r",
        "z = 5.02 / 12.6974 : applied: SpaceCharge"
       ]
      },
      {
       "output_type": "stream",
       "stream": "stdout",
       "text": [
        "\r",
        "z = 5.12 / 12.6974 : applied: SpaceCharge"
       ]
      },
      {
       "output_type": "stream",
       "stream": "stdout",
       "text": [
        "\r",
        "z = 5.22 / 12.6974 : applied: SpaceCharge"
       ]
      },
      {
       "output_type": "stream",
       "stream": "stdout",
       "text": [
        "\r",
        "z = 5.32 / 12.6974 : applied: SpaceCharge"
       ]
      },
      {
       "output_type": "stream",
       "stream": "stdout",
       "text": [
        "\r",
        "z = 5.42 / 12.6974 : applied: SpaceCharge"
       ]
      },
      {
       "output_type": "stream",
       "stream": "stdout",
       "text": [
        "\r",
        "z = 5.52 / 12.6974 : applied: SpaceCharge"
       ]
      },
      {
       "output_type": "stream",
       "stream": "stdout",
       "text": [
        "\r",
        "z = 5.62 / 12.6974 : applied: SpaceCharge"
       ]
      },
      {
       "output_type": "stream",
       "stream": "stdout",
       "text": [
        "\r",
        "z = 5.72 / 12.6974 : applied: SpaceCharge"
       ]
      },
      {
       "output_type": "stream",
       "stream": "stdout",
       "text": [
        "\r",
        "z = 5.82 / 12.6974 : applied: SpaceCharge"
       ]
      },
      {
       "output_type": "stream",
       "stream": "stdout",
       "text": [
        "\r",
        "z = 5.92 / 12.6974 : applied: SpaceCharge"
       ]
      },
      {
       "output_type": "stream",
       "stream": "stdout",
       "text": [
        "\r",
        "z = 6.02 / 12.6974 : applied: SpaceCharge"
       ]
      },
      {
       "output_type": "stream",
       "stream": "stdout",
       "text": [
        "\r",
        "z = 6.12 / 12.6974 : applied: SpaceCharge"
       ]
      },
      {
       "output_type": "stream",
       "stream": "stdout",
       "text": [
        "\r",
        "z = 6.22 / 12.6974 : applied: SpaceCharge"
       ]
      },
      {
       "output_type": "stream",
       "stream": "stdout",
       "text": [
        "\r",
        "z = 6.32 / 12.6974 : applied: SpaceCharge"
       ]
      },
      {
       "output_type": "stream",
       "stream": "stdout",
       "text": [
        "\r",
        "z = 6.42 / 12.6974 : applied: SpaceCharge"
       ]
      },
      {
       "output_type": "stream",
       "stream": "stdout",
       "text": [
        "\r",
        "z = 6.52 / 12.6974 : applied: SpaceCharge"
       ]
      },
      {
       "output_type": "stream",
       "stream": "stdout",
       "text": [
        "\r",
        "z = 6.62 / 12.6974 : applied: SpaceCharge"
       ]
      },
      {
       "output_type": "stream",
       "stream": "stdout",
       "text": [
        "\r",
        "z = 6.72 / 12.6974 : applied: SpaceCharge"
       ]
      },
      {
       "output_type": "stream",
       "stream": "stdout",
       "text": [
        "\r",
        "z = 6.82 / 12.6974 : applied: SpaceCharge"
       ]
      },
      {
       "output_type": "stream",
       "stream": "stdout",
       "text": [
        "\r",
        "z = 6.92 / 12.6974 : applied: SpaceCharge"
       ]
      },
      {
       "output_type": "stream",
       "stream": "stdout",
       "text": [
        "\r",
        "z = 7.02 / 12.6974 : applied: SpaceCharge"
       ]
      },
      {
       "output_type": "stream",
       "stream": "stdout",
       "text": [
        "\r",
        "z = 7.12 / 12.6974 : applied: SpaceCharge"
       ]
      },
      {
       "output_type": "stream",
       "stream": "stdout",
       "text": [
        "\r",
        "z = 7.22 / 12.6974 : applied: SpaceCharge"
       ]
      },
      {
       "output_type": "stream",
       "stream": "stdout",
       "text": [
        "\r",
        "z = 7.32 / 12.6974 : applied: SpaceCharge"
       ]
      },
      {
       "output_type": "stream",
       "stream": "stdout",
       "text": [
        "\r",
        "z = 7.42 / 12.6974 : applied: SpaceCharge"
       ]
      },
      {
       "output_type": "stream",
       "stream": "stdout",
       "text": [
        "\r",
        "z = 7.52 / 12.6974 : applied: SpaceCharge"
       ]
      },
      {
       "output_type": "stream",
       "stream": "stdout",
       "text": [
        "\r",
        "z = 7.62 / 12.6974 : applied: SpaceCharge"
       ]
      },
      {
       "output_type": "stream",
       "stream": "stdout",
       "text": [
        "\r",
        "z = 7.72 / 12.6974 : applied: SpaceCharge"
       ]
      },
      {
       "output_type": "stream",
       "stream": "stdout",
       "text": [
        "\r",
        "z = 7.82 / 12.6974 : applied: SpaceCharge"
       ]
      },
      {
       "output_type": "stream",
       "stream": "stdout",
       "text": [
        "\r",
        "z = 7.92 / 12.6974 : applied: SpaceCharge"
       ]
      },
      {
       "output_type": "stream",
       "stream": "stdout",
       "text": [
        "\r",
        "z = 8.02 / 12.6974 : applied: SpaceCharge"
       ]
      },
      {
       "output_type": "stream",
       "stream": "stdout",
       "text": [
        "\r",
        "z = 8.12 / 12.6974 : applied: SpaceCharge"
       ]
      },
      {
       "output_type": "stream",
       "stream": "stdout",
       "text": [
        "\r",
        "z = 8.22 / 12.6974 : applied: SpaceCharge"
       ]
      },
      {
       "output_type": "stream",
       "stream": "stdout",
       "text": [
        "\r",
        "z = 8.32 / 12.6974 : applied: SpaceCharge"
       ]
      },
      {
       "output_type": "stream",
       "stream": "stdout",
       "text": [
        "\r",
        "z = 8.42 / 12.6974 : applied: SpaceCharge"
       ]
      },
      {
       "output_type": "stream",
       "stream": "stdout",
       "text": [
        "\r",
        "z = 8.52 / 12.6974 : applied: SpaceCharge"
       ]
      },
      {
       "output_type": "stream",
       "stream": "stdout",
       "text": [
        "\r",
        "z = 8.62 / 12.6974 : applied: SpaceCharge"
       ]
      },
      {
       "output_type": "stream",
       "stream": "stdout",
       "text": [
        "\r",
        "z = 8.72 / 12.6974 : applied: SpaceCharge"
       ]
      },
      {
       "output_type": "stream",
       "stream": "stdout",
       "text": [
        "\r",
        "z = 8.82 / 12.6974 : applied: SpaceCharge"
       ]
      },
      {
       "output_type": "stream",
       "stream": "stdout",
       "text": [
        "\r",
        "z = 8.92 / 12.6974 : applied: SpaceCharge"
       ]
      },
      {
       "output_type": "stream",
       "stream": "stdout",
       "text": [
        "\r",
        "z = 9.02 / 12.6974 : applied: SpaceCharge"
       ]
      },
      {
       "output_type": "stream",
       "stream": "stdout",
       "text": [
        "\r",
        "z = 9.12 / 12.6974 : applied: SpaceCharge"
       ]
      },
      {
       "output_type": "stream",
       "stream": "stdout",
       "text": [
        "\r",
        "z = 9.22 / 12.6974 : applied: SpaceCharge"
       ]
      },
      {
       "output_type": "stream",
       "stream": "stdout",
       "text": [
        "\r",
        "z = 9.32 / 12.6974 : applied: SpaceCharge"
       ]
      },
      {
       "output_type": "stream",
       "stream": "stdout",
       "text": [
        "\r",
        "z = 9.42 / 12.6974 : applied: SpaceCharge"
       ]
      },
      {
       "output_type": "stream",
       "stream": "stdout",
       "text": [
        "\r",
        "z = 9.52 / 12.6974 : applied: SpaceCharge"
       ]
      },
      {
       "output_type": "stream",
       "stream": "stdout",
       "text": [
        "\r",
        "z = 9.62 / 12.6974 : applied: SpaceCharge"
       ]
      },
      {
       "output_type": "stream",
       "stream": "stdout",
       "text": [
        "\r",
        "z = 9.72 / 12.6974 : applied: SpaceCharge"
       ]
      },
      {
       "output_type": "stream",
       "stream": "stdout",
       "text": [
        "\r",
        "z = 9.82 / 12.6974 : applied: SpaceCharge"
       ]
      },
      {
       "output_type": "stream",
       "stream": "stdout",
       "text": [
        "\r",
        "z = 9.92 / 12.6974 : applied: SpaceCharge"
       ]
      },
      {
       "output_type": "stream",
       "stream": "stdout",
       "text": [
        "\r",
        "z = 10.02 / 12.6974 : applied: SpaceCharge"
       ]
      },
      {
       "output_type": "stream",
       "stream": "stdout",
       "text": [
        "\r",
        "z = 10.12 / 12.6974 : applied: SpaceCharge"
       ]
      },
      {
       "output_type": "stream",
       "stream": "stdout",
       "text": [
        "\r",
        "z = 10.22 / 12.6974 : applied: SpaceCharge"
       ]
      },
      {
       "output_type": "stream",
       "stream": "stdout",
       "text": [
        "\r",
        "z = 10.32 / 12.6974 : applied: SpaceCharge"
       ]
      },
      {
       "output_type": "stream",
       "stream": "stdout",
       "text": [
        "\r",
        "z = 10.42 / 12.6974 : applied: SpaceCharge"
       ]
      },
      {
       "output_type": "stream",
       "stream": "stdout",
       "text": [
        "\r",
        "z = 10.52 / 12.6974 : applied: SpaceCharge"
       ]
      },
      {
       "output_type": "stream",
       "stream": "stdout",
       "text": [
        "\r",
        "z = 10.62 / 12.6974 : applied: SpaceCharge"
       ]
      },
      {
       "output_type": "stream",
       "stream": "stdout",
       "text": [
        "\r",
        "z = 10.72 / 12.6974 : applied: SpaceCharge"
       ]
      },
      {
       "output_type": "stream",
       "stream": "stdout",
       "text": [
        "\r",
        "z = 10.82 / 12.6974 : applied: SpaceCharge"
       ]
      },
      {
       "output_type": "stream",
       "stream": "stdout",
       "text": [
        "\r",
        "z = 10.92 / 12.6974 : applied: SpaceCharge"
       ]
      },
      {
       "output_type": "stream",
       "stream": "stdout",
       "text": [
        "\r",
        "z = 11.02 / 12.6974 : applied: SpaceCharge"
       ]
      },
      {
       "output_type": "stream",
       "stream": "stdout",
       "text": [
        "\r",
        "z = 11.12 / 12.6974 : applied: SpaceCharge"
       ]
      },
      {
       "output_type": "stream",
       "stream": "stdout",
       "text": [
        "\r",
        "z = 11.22 / 12.6974 : applied: SpaceCharge"
       ]
      },
      {
       "output_type": "stream",
       "stream": "stdout",
       "text": [
        "\r",
        "z = 11.32 / 12.6974 : applied: SpaceCharge"
       ]
      },
      {
       "output_type": "stream",
       "stream": "stdout",
       "text": [
        "\r",
        "z = 11.42 / 12.6974 : applied: SpaceCharge"
       ]
      },
      {
       "output_type": "stream",
       "stream": "stdout",
       "text": [
        "\r",
        "z = 11.52 / 12.6974 : applied: SpaceCharge"
       ]
      },
      {
       "output_type": "stream",
       "stream": "stdout",
       "text": [
        "\r",
        "z = 11.62 / 12.6974 : applied: SpaceCharge"
       ]
      },
      {
       "output_type": "stream",
       "stream": "stdout",
       "text": [
        "\r",
        "z = 11.72 / 12.6974 : applied: SpaceCharge"
       ]
      },
      {
       "output_type": "stream",
       "stream": "stdout",
       "text": [
        "\r",
        "z = 11.82 / 12.6974 : applied: SpaceCharge"
       ]
      },
      {
       "output_type": "stream",
       "stream": "stdout",
       "text": [
        "\r",
        "z = 11.92 / 12.6974 : applied: SpaceCharge"
       ]
      },
      {
       "output_type": "stream",
       "stream": "stdout",
       "text": [
        "\r",
        "z = 12.02 / 12.6974 : applied: SpaceCharge"
       ]
      },
      {
       "output_type": "stream",
       "stream": "stdout",
       "text": [
        "\r",
        "z = 12.12 / 12.6974 : applied: SpaceCharge"
       ]
      },
      {
       "output_type": "stream",
       "stream": "stdout",
       "text": [
        "\r",
        "z = 12.22 / 12.6974 : applied: SpaceCharge"
       ]
      },
      {
       "output_type": "stream",
       "stream": "stdout",
       "text": [
        "\r",
        "z = 12.32 / 12.6974 : applied: SpaceCharge"
       ]
      },
      {
       "output_type": "stream",
       "stream": "stdout",
       "text": [
        "\r",
        "z = 12.42 / 12.6974 : applied: SpaceCharge"
       ]
      },
      {
       "output_type": "stream",
       "stream": "stdout",
       "text": [
        "\r",
        "z = 12.6974 / 12.6974 : applied: "
       ]
      },
      {
       "output_type": "stream",
       "stream": "stdout",
       "text": [
        "('time exec: ', 224.88700008392334, 'sec')\n"
       ]
      }
     ],
     "prompt_number": 6
    },
    {
     "cell_type": "code",
     "collapsed": false,
     "input": [
      "# you can change top_plot argument, for example top_plot=[\"alpha_x\", \"alpha_y\"]\n",
      "plot_opt_func(lat, tws_track, top_plot=[\"E\"], fig_name=0, legend=False)\n",
      "plt.show()"
     ],
     "language": "python",
     "metadata": {},
     "outputs": [
      {
       "metadata": {},
       "output_type": "display_data",
       "png": "[encoded data removed]",
       "text": [
        "<matplotlib.figure.Figure at 0x11fe0f70>"
       ]
      }
     ],
     "prompt_number": 7
    },
    {
     "cell_type": "markdown",
     "metadata": {},
     "source": [
      "# Comparison with ASTRA\n",
      "Beam tracking with ASTRA was performed by Igor Zagorodnov (DESY). "
     ]
    },
    {
     "cell_type": "code",
     "collapsed": false,
     "input": [
      "sa, bx_sc, by_sc, bx_wo_sc, by_wo_sc = np.loadtxt(\"astra_sim.txt\", usecols=(0, 1, 2, 3, 4), unpack=True)\n",
      "\n",
      "s = [tw.s for tw in tws_track]\n",
      "bx = [tw.beta_x for tw in tws_track]\n",
      "by = [tw.beta_y for tw in tws_track]\n",
      "ax = plot_API(lat, legend=False)\n",
      "ax.plot(s, bx, \"r\", label=\"Ocelot, bx\")\n",
      "ax.plot(sa-3.2, bx_sc, \"b-\",label=\"ASTRA, bx\")\n",
      "ax.plot(s, by, \"r\", label=\"Ocelot, by\")\n",
      "ax.plot(sa-3.2, by_sc, \"b-\",label=\"ASTRA, by\")\n",
      "ax.legend()\n",
      "plt.show()"
     ],
     "language": "python",
     "metadata": {},
     "outputs": [
      {
       "metadata": {},
       "output_type": "display_data",
       "png": "[encoded data removed]",
       "text": [
        "<matplotlib.figure.Figure at 0x12137e30>"
       ]
      }
     ],
     "prompt_number": 8
    },
    {
     "cell_type": "code",
     "collapsed": false,
     "input": [],
     "language": "python",
     "metadata": {},
     "outputs": []
    }
   ],
   "metadata": {}
  }
 ]
}